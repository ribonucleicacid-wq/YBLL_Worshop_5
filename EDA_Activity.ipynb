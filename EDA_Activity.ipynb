{
 "cells": [
  {
   "cell_type": "markdown",
   "id": "3c17056d",
   "metadata": {
    "slideshow": {
     "slide_type": "slide"
    }
   },
   "source": [
    "Exploratory Data Analysis Activity"
   ]
  },
  {
   "cell_type": "markdown",
   "id": "3b60a850",
   "metadata": {
    "slideshow": {
     "slide_type": "notes"
    }
   },
   "source": [
    "Team Mewtwo"
   ]
  },
  {
   "cell_type": "code",
   "execution_count": null,
   "id": "ff93389b",
   "metadata": {},
   "outputs": [],
   "source": [
    "# Create questions about the dataset provided \"pokemon.csv\"\n",
    "\n",
    "# The dataset contains information about various Pokémon, including their names, types, and stats.\n",
    "# Focus on two specific fields and their attributes to create questions.\n",
    "        # Attack\n",
    "        # Defense\n",
    "# The questions may not be limited to the given fields, as long as those two where included, its okay.\n",
    "# \n",
    "# Sample questions:\n",
    "    # What is the corelation between Attack and Defense of all the pokemons?\n",
    "    # Which pokemon type has the highest average Attack?\n",
    "    # What is the distribution of Defense values across different Pokémon types?\n",
    "    # How does the Attack of Pokémon vary with their type?\n",
    "    # Which Pokémon has the highest Attack and Defense values?   "
   ]
  }
 ],
 "metadata": {
  "kernelspec": {
   "display_name": "Python 3",
   "language": "python",
   "name": "python3"
  },
  "language_info": {
   "name": "python",
   "version": "3.13.2"
  }
 },
 "nbformat": 4,
 "nbformat_minor": 5
}
